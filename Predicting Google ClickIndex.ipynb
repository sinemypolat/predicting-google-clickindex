{
 "cells": [
  {
   "cell_type": "markdown",
   "metadata": {},
   "source": [
    "# Warm Up and Data Exploration\n"
   ]
  },
  {
   "cell_type": "code",
   "execution_count": 1,
   "metadata": {
    "collapsed": true
   },
   "outputs": [],
   "source": [
    "import pandas as pd\n",
    "import numpy as np\n",
    "import matplotlib.pyplot as plt\n",
    "import seaborn as sns\n",
    "import datetime"
   ]
  },
  {
   "cell_type": "code",
   "execution_count": 2,
   "metadata": {
    "collapsed": true
   },
   "outputs": [],
   "source": [
    "# Decision Tree \n",
    "from sklearn import tree\n",
    "from sklearn.tree import DecisionTreeRegressor\n",
    "from sklearn.model_selection import train_test_split,GridSearchCV\n",
    "from sklearn.metrics import mean_squared_error,r2_score,mean_absolute_error"
   ]
  },
  {
   "cell_type": "code",
   "execution_count": 3,
   "metadata": {},
   "outputs": [
    {
     "data": {
      "text/html": [
       "<div>\n",
       "<style>\n",
       "    .dataframe thead tr:only-child th {\n",
       "        text-align: right;\n",
       "    }\n",
       "\n",
       "    .dataframe thead th {\n",
       "        text-align: left;\n",
       "    }\n",
       "\n",
       "    .dataframe tbody tr th {\n",
       "        vertical-align: top;\n",
       "    }\n",
       "</style>\n",
       "<table border=\"1\" class=\"dataframe\">\n",
       "  <thead>\n",
       "    <tr style=\"text-align: right;\">\n",
       "      <th></th>\n",
       "      <th>PageId</th>\n",
       "      <th>SearchTerm</th>\n",
       "      <th>Timestamp</th>\n",
       "      <th>ClickIndex</th>\n",
       "      <th>Rank</th>\n",
       "      <th>Domain</th>\n",
       "      <th>Position</th>\n",
       "      <th>CountryId</th>\n",
       "    </tr>\n",
       "  </thead>\n",
       "  <tbody>\n",
       "    <tr>\n",
       "      <th>40140</th>\n",
       "      <td>91b5615a-f264-4422-9151-8269398bc395</td>\n",
       "      <td>apple iphone 5 price</td>\n",
       "      <td>2005-06-03 17:00:43.019915</td>\n",
       "      <td>0.000885</td>\n",
       "      <td>2</td>\n",
       "      <td>vodafone.co.nz</td>\n",
       "      <td>topAd</td>\n",
       "      <td>18</td>\n",
       "    </tr>\n",
       "    <tr>\n",
       "      <th>27949</th>\n",
       "      <td>cebbd527-9ec3-4e54-a08d-38c95a006e21</td>\n",
       "      <td>apple iphone 3g</td>\n",
       "      <td>2012-01-21 01:11:35.617340</td>\n",
       "      <td>0.554914</td>\n",
       "      <td>5</td>\n",
       "      <td>apple.com</td>\n",
       "      <td>organicRes</td>\n",
       "      <td>6</td>\n",
       "    </tr>\n",
       "    <tr>\n",
       "      <th>120400</th>\n",
       "      <td>b11c2f1a-4644-4b79-a494-9f0899159d29</td>\n",
       "      <td>how to buy apple stocks uk</td>\n",
       "      <td>2005-03-14 12:00:35.347469</td>\n",
       "      <td>0.002778</td>\n",
       "      <td>7</td>\n",
       "      <td>about.com</td>\n",
       "      <td>rightAd</td>\n",
       "      <td>2</td>\n",
       "    </tr>\n",
       "    <tr>\n",
       "      <th>64823</th>\n",
       "      <td>88110277-35bd-4569-ab1e-0cedb3039855</td>\n",
       "      <td>apple phones prices</td>\n",
       "      <td>2014-08-15 21:38:27.268305</td>\n",
       "      <td>0.247398</td>\n",
       "      <td>8</td>\n",
       "      <td>gsmarena.com</td>\n",
       "      <td>organicRes</td>\n",
       "      <td>14</td>\n",
       "    </tr>\n",
       "    <tr>\n",
       "      <th>110609</th>\n",
       "      <td>dfe14a66-bfbe-4699-b316-cc9e79e68903</td>\n",
       "      <td>can i invest in apple</td>\n",
       "      <td>2009-07-31 19:07:10.585613</td>\n",
       "      <td>0.021195</td>\n",
       "      <td>1</td>\n",
       "      <td>fortune.com</td>\n",
       "      <td>organicRes</td>\n",
       "      <td>2</td>\n",
       "    </tr>\n",
       "    <tr>\n",
       "      <th>116641</th>\n",
       "      <td>322a24c3-f50a-4563-9edd-48670e8aac97</td>\n",
       "      <td>how much to buy a share in apple</td>\n",
       "      <td>2004-03-13 14:49:27.468617</td>\n",
       "      <td>0.002199</td>\n",
       "      <td>3</td>\n",
       "      <td>selftrade.co.uk</td>\n",
       "      <td>rightAd</td>\n",
       "      <td>2</td>\n",
       "    </tr>\n",
       "    <tr>\n",
       "      <th>94731</th>\n",
       "      <td>3b7465b1-cb73-40a3-918a-a6c6f7135083</td>\n",
       "      <td>buy apple shares in the uk</td>\n",
       "      <td>2009-04-08 09:04:17.539607</td>\n",
       "      <td>0.113462</td>\n",
       "      <td>1</td>\n",
       "      <td>markets.com</td>\n",
       "      <td>rightAd</td>\n",
       "      <td>2</td>\n",
       "    </tr>\n",
       "    <tr>\n",
       "      <th>142800</th>\n",
       "      <td>7ba6b90a-e86d-4e7b-9c07-bd7734261098</td>\n",
       "      <td>trade apple shares</td>\n",
       "      <td>2016-01-04 07:53:48.822946</td>\n",
       "      <td>0.011947</td>\n",
       "      <td>7</td>\n",
       "      <td>jctrading.info</td>\n",
       "      <td>rightAd</td>\n",
       "      <td>6</td>\n",
       "    </tr>\n",
       "    <tr>\n",
       "      <th>129193</th>\n",
       "      <td>2b617c1e-3d59-4345-9825-700d6030219c</td>\n",
       "      <td>iphone 4s apple</td>\n",
       "      <td>2015-01-31 14:21:27.691564</td>\n",
       "      <td>0.240178</td>\n",
       "      <td>10</td>\n",
       "      <td>optus.com.au</td>\n",
       "      <td>organicRes</td>\n",
       "      <td>6</td>\n",
       "    </tr>\n",
       "    <tr>\n",
       "      <th>34003</th>\n",
       "      <td>13dae225-718a-4d51-b9ea-c0e60573407e</td>\n",
       "      <td>apple iphone 4g</td>\n",
       "      <td>2007-11-23 21:29:45.474879</td>\n",
       "      <td>0.326713</td>\n",
       "      <td>4</td>\n",
       "      <td>webcrawler.com</td>\n",
       "      <td>rightAd</td>\n",
       "      <td>6</td>\n",
       "    </tr>\n",
       "  </tbody>\n",
       "</table>\n",
       "</div>"
      ],
      "text/plain": [
       "                                      PageId  \\\n",
       "40140   91b5615a-f264-4422-9151-8269398bc395   \n",
       "27949   cebbd527-9ec3-4e54-a08d-38c95a006e21   \n",
       "120400  b11c2f1a-4644-4b79-a494-9f0899159d29   \n",
       "64823   88110277-35bd-4569-ab1e-0cedb3039855   \n",
       "110609  dfe14a66-bfbe-4699-b316-cc9e79e68903   \n",
       "116641  322a24c3-f50a-4563-9edd-48670e8aac97   \n",
       "94731   3b7465b1-cb73-40a3-918a-a6c6f7135083   \n",
       "142800  7ba6b90a-e86d-4e7b-9c07-bd7734261098   \n",
       "129193  2b617c1e-3d59-4345-9825-700d6030219c   \n",
       "34003   13dae225-718a-4d51-b9ea-c0e60573407e   \n",
       "\n",
       "                              SearchTerm                   Timestamp  \\\n",
       "40140               apple iphone 5 price  2005-06-03 17:00:43.019915   \n",
       "27949                    apple iphone 3g  2012-01-21 01:11:35.617340   \n",
       "120400        how to buy apple stocks uk  2005-03-14 12:00:35.347469   \n",
       "64823                apple phones prices  2014-08-15 21:38:27.268305   \n",
       "110609             can i invest in apple  2009-07-31 19:07:10.585613   \n",
       "116641  how much to buy a share in apple  2004-03-13 14:49:27.468617   \n",
       "94731         buy apple shares in the uk  2009-04-08 09:04:17.539607   \n",
       "142800                trade apple shares  2016-01-04 07:53:48.822946   \n",
       "129193                   iphone 4s apple  2015-01-31 14:21:27.691564   \n",
       "34003                    apple iphone 4g  2007-11-23 21:29:45.474879   \n",
       "\n",
       "        ClickIndex  Rank           Domain    Position  CountryId  \n",
       "40140     0.000885     2   vodafone.co.nz       topAd         18  \n",
       "27949     0.554914     5        apple.com  organicRes          6  \n",
       "120400    0.002778     7        about.com     rightAd          2  \n",
       "64823     0.247398     8     gsmarena.com  organicRes         14  \n",
       "110609    0.021195     1      fortune.com  organicRes          2  \n",
       "116641    0.002199     3  selftrade.co.uk     rightAd          2  \n",
       "94731     0.113462     1      markets.com     rightAd          2  \n",
       "142800    0.011947     7   jctrading.info     rightAd          6  \n",
       "129193    0.240178    10     optus.com.au  organicRes          6  \n",
       "34003     0.326713     4   webcrawler.com     rightAd          6  "
      ]
     },
     "execution_count": 3,
     "metadata": {},
     "output_type": "execute_result"
    }
   ],
   "source": [
    "task_features = pd.DataFrame.from_csv('google_search_dataset.tsv',sep='\\t',header=0, parse_dates=True).reset_index()\n",
    "task_features.sample(10)"
   ]
  },
  {
   "cell_type": "code",
   "execution_count": 4,
   "metadata": {},
   "outputs": [
    {
     "name": "stdout",
     "output_type": "stream",
     "text": [
      "<class 'pandas.core.frame.DataFrame'>\n",
      "RangeIndex: 144652 entries, 0 to 144651\n",
      "Data columns (total 8 columns):\n",
      "PageId        144652 non-null object\n",
      "SearchTerm    144652 non-null object\n",
      "Timestamp     144652 non-null datetime64[ns]\n",
      "ClickIndex    144652 non-null float64\n",
      "Rank          144652 non-null int64\n",
      "Domain        144652 non-null object\n",
      "Position      144652 non-null object\n",
      "CountryId     144652 non-null int64\n",
      "dtypes: datetime64[ns](1), float64(1), int64(2), object(4)\n",
      "memory usage: 8.8+ MB\n"
     ]
    }
   ],
   "source": [
    "task_features['Timestamp'] = pd.to_datetime(task_features['Timestamp'])\n",
    "task_features.info()"
   ]
  },
  {
   "cell_type": "code",
   "execution_count": 5,
   "metadata": {},
   "outputs": [
    {
     "data": {
      "text/html": [
       "<div>\n",
       "<style>\n",
       "    .dataframe thead tr:only-child th {\n",
       "        text-align: right;\n",
       "    }\n",
       "\n",
       "    .dataframe thead th {\n",
       "        text-align: left;\n",
       "    }\n",
       "\n",
       "    .dataframe tbody tr th {\n",
       "        vertical-align: top;\n",
       "    }\n",
       "</style>\n",
       "<table border=\"1\" class=\"dataframe\">\n",
       "  <thead>\n",
       "    <tr style=\"text-align: right;\">\n",
       "      <th></th>\n",
       "      <th>PageId</th>\n",
       "      <th>Timestamp</th>\n",
       "      <th>SumClickIndex</th>\n",
       "    </tr>\n",
       "  </thead>\n",
       "  <tbody>\n",
       "    <tr>\n",
       "      <th>121</th>\n",
       "      <td>c2ee268c-1e61-403a-adb7-345d6ff9a6a7</td>\n",
       "      <td>2004-01-11</td>\n",
       "      <td>0.02147</td>\n",
       "    </tr>\n",
       "    <tr>\n",
       "      <th>103</th>\n",
       "      <td>a28c0a3a-9966-48bb-93d7-bbbf7c2bd993</td>\n",
       "      <td>2004-04-13</td>\n",
       "      <td>0.01569</td>\n",
       "    </tr>\n",
       "  </tbody>\n",
       "</table>\n",
       "</div>"
      ],
      "text/plain": [
       "                                   PageId  Timestamp  SumClickIndex\n",
       "121  c2ee268c-1e61-403a-adb7-345d6ff9a6a7 2004-01-11        0.02147\n",
       "103  a28c0a3a-9966-48bb-93d7-bbbf7c2bd993 2004-04-13        0.01569"
      ]
     },
     "execution_count": 5,
     "metadata": {},
     "output_type": "execute_result"
    }
   ],
   "source": [
    "apple_iphone = task_features[task_features['SearchTerm']=='apple iphone'][['PageId','Timestamp','ClickIndex']]\n",
    "apple_iphone_2 = pd.DataFrame(apple_iphone.groupby([apple_iphone['PageId'],apple_iphone.Timestamp.map(lambda\\\n",
    "                        t: datetime.datetime(t.year, t.month, t.day))])['ClickIndex'].sum()).reset_index()\n",
    "apple_iphone_2.rename(columns={'ClickIndex':'SumClickIndex'}, inplace=True)\n",
    "apple_iphone_2 = apple_iphone_2.sort_values('Timestamp')\n",
    "apple_iphone_2.head(2)"
   ]
  },
  {
   "cell_type": "code",
   "execution_count": 6,
   "metadata": {},
   "outputs": [
    {
     "data": {
      "image/png": "[encoded data removed]",
      "text/plain": [
       "<matplotlib.figure.Figure at 0x11977f278>"
      ]
     },
     "metadata": {},
     "output_type": "display_data"
    }
   ],
   "source": [
    "apple_iphone_2.plot(x='Timestamp',y='SumClickIndex',figsize=(20,5))\n",
    "plt.show()"
   ]
  },
  {
   "cell_type": "code",
   "execution_count": 7,
   "metadata": {},
   "outputs": [
    {
     "data": {
      "text/html": [
       "<div>\n",
       "<style>\n",
       "    .dataframe thead tr:only-child th {\n",
       "        text-align: right;\n",
       "    }\n",
       "\n",
       "    .dataframe thead th {\n",
       "        text-align: left;\n",
       "    }\n",
       "\n",
       "    .dataframe tbody tr th {\n",
       "        vertical-align: top;\n",
       "    }\n",
       "</style>\n",
       "<table border=\"1\" class=\"dataframe\">\n",
       "  <thead>\n",
       "    <tr style=\"text-align: right;\">\n",
       "      <th></th>\n",
       "      <th>PageId</th>\n",
       "      <th>Timestamp</th>\n",
       "      <th>SumClickIndex</th>\n",
       "    </tr>\n",
       "  </thead>\n",
       "  <tbody>\n",
       "    <tr>\n",
       "      <th>1</th>\n",
       "      <td>75b8bad4-971d-41d3-83b6-7735127277a2</td>\n",
       "      <td>2004-12-10</td>\n",
       "      <td>0.071790</td>\n",
       "    </tr>\n",
       "    <tr>\n",
       "      <th>5</th>\n",
       "      <td>f1691211-c893-4188-ad45-86a633564af5</td>\n",
       "      <td>2006-09-24</td>\n",
       "      <td>0.170169</td>\n",
       "    </tr>\n",
       "  </tbody>\n",
       "</table>\n",
       "</div>"
      ],
      "text/plain": [
       "                                 PageId  Timestamp  SumClickIndex\n",
       "1  75b8bad4-971d-41d3-83b6-7735127277a2 2004-12-10       0.071790\n",
       "5  f1691211-c893-4188-ad45-86a633564af5 2006-09-24       0.170169"
      ]
     },
     "execution_count": 7,
     "metadata": {},
     "output_type": "execute_result"
    }
   ],
   "source": [
    "# Same process for 'buy apple stocks online'\n",
    "stocks = task_features[task_features['SearchTerm']=='buy apple stocks online'][['PageId','Timestamp','ClickIndex']]\n",
    "stocks_2 = pd.DataFrame(stocks.groupby([stocks['PageId'],stocks.Timestamp.map(lambda\\\n",
    "                        t: datetime.datetime(t.year, t.month, t.day))])['ClickIndex'].sum()).reset_index()\n",
    "stocks_2.rename(columns={'ClickIndex':'SumClickIndex'}, inplace=True)\n",
    "stocks_2 = stocks_2.sort_values('Timestamp')\n",
    "stocks_2.head(2)"
   ]
  },
  {
   "cell_type": "code",
   "execution_count": 8,
   "metadata": {},
   "outputs": [
    {
     "data": {
      "image/png": "[encoded data removed]",
      "text/plain": [
       "<matplotlib.figure.Figure at 0x11709dc88>"
      ]
     },
     "metadata": {},
     "output_type": "display_data"
    }
   ],
   "source": [
    "stocks_2.plot(x='Timestamp',y='SumClickIndex',figsize=(20,5))\n",
    "plt.show()"
   ]
  },
  {
   "cell_type": "code",
   "execution_count": 9,
   "metadata": {},
   "outputs": [
    {
     "data": {
      "text/plain": [
       "68842                bbc.co.uk\n",
       "68843          bbcgoodfood.com\n",
       "68844      bramleyapples.co.uk\n",
       "68845    greatbritishchefs.com\n",
       "68846         allrecipes.co.uk\n",
       "68847         goodtoknow.co.uk\n",
       "68848          foodnetwork.com\n",
       "68849          theguardian.com\n",
       "68850          telegraph.co.uk\n",
       "68851        countryliving.com\n",
       "68852             taste.com.au\n",
       "68853        allrecipes.com.au\n",
       "68855      aussieapples.com.au\n",
       "68856        marthastewart.com\n",
       "68858        simplyrecipes.com\n",
       "68860      custardapple.com.au\n",
       "68870            thekitchn.com\n",
       "69307          tasteofhome.com\n",
       "Name: Domain, dtype: object"
      ]
     },
     "execution_count": 9,
     "metadata": {},
     "output_type": "execute_result"
    }
   ],
   "source": [
    "# Getting domain names for specific results, for example:\n",
    "\n",
    "domains = task_features[(task_features['SearchTerm']=='apple recipes')&(task_features['Position']=='organicRes')]\\\n",
    "            ['Domain'].drop_duplicates()\n",
    "domains"
   ]
  },
  {
   "cell_type": "code",
   "execution_count": 10,
   "metadata": {},
   "outputs": [
    {
     "data": {
      "text/html": [
       "<div>\n",
       "<style>\n",
       "    .dataframe thead tr:only-child th {\n",
       "        text-align: right;\n",
       "    }\n",
       "\n",
       "    .dataframe thead th {\n",
       "        text-align: left;\n",
       "    }\n",
       "\n",
       "    .dataframe tbody tr th {\n",
       "        vertical-align: top;\n",
       "    }\n",
       "</style>\n",
       "<table border=\"1\" class=\"dataframe\">\n",
       "  <thead>\n",
       "    <tr style=\"text-align: right;\">\n",
       "      <th></th>\n",
       "      <th>Domain</th>\n",
       "      <th>Count</th>\n",
       "    </tr>\n",
       "  </thead>\n",
       "  <tbody>\n",
       "    <tr>\n",
       "      <th>66</th>\n",
       "      <td>apple.com</td>\n",
       "      <td>6052</td>\n",
       "    </tr>\n",
       "    <tr>\n",
       "      <th>495</th>\n",
       "      <td>ig.com</td>\n",
       "      <td>2974</td>\n",
       "    </tr>\n",
       "    <tr>\n",
       "      <th>637</th>\n",
       "      <td>marketwatch.com</td>\n",
       "      <td>2913</td>\n",
       "    </tr>\n",
       "    <tr>\n",
       "      <th>437</th>\n",
       "      <td>gsmarena.com</td>\n",
       "      <td>2461</td>\n",
       "    </tr>\n",
       "    <tr>\n",
       "      <th>719</th>\n",
       "      <td>ndtv.com</td>\n",
       "      <td>2421</td>\n",
       "    </tr>\n",
       "    <tr>\n",
       "      <th>76</th>\n",
       "      <td>ask.com</td>\n",
       "      <td>2350</td>\n",
       "    </tr>\n",
       "    <tr>\n",
       "      <th>1014</th>\n",
       "      <td>taste.com.au</td>\n",
       "      <td>2205</td>\n",
       "    </tr>\n",
       "    <tr>\n",
       "      <th>1191</th>\n",
       "      <td>yahoo.com</td>\n",
       "      <td>2176</td>\n",
       "    </tr>\n",
       "    <tr>\n",
       "      <th>16</th>\n",
       "      <td>about.com</td>\n",
       "      <td>1947</td>\n",
       "    </tr>\n",
       "    <tr>\n",
       "      <th>467</th>\n",
       "      <td>hl.co.uk</td>\n",
       "      <td>1828</td>\n",
       "    </tr>\n",
       "  </tbody>\n",
       "</table>\n",
       "</div>"
      ],
      "text/plain": [
       "               Domain  Count\n",
       "66          apple.com   6052\n",
       "495            ig.com   2974\n",
       "637   marketwatch.com   2913\n",
       "437      gsmarena.com   2461\n",
       "719          ndtv.com   2421\n",
       "76            ask.com   2350\n",
       "1014     taste.com.au   2205\n",
       "1191        yahoo.com   2176\n",
       "16          about.com   1947\n",
       "467          hl.co.uk   1828"
      ]
     },
     "execution_count": 10,
     "metadata": {},
     "output_type": "execute_result"
    }
   ],
   "source": [
    "# Top 10 domains for all searches\n",
    "# Each domain counts 1 time for each pageid\n",
    "task_features_2 = task_features.drop_duplicates(subset=['PageId','Domain'])\n",
    "top_domains = pd.DataFrame(task_features_2.groupby('Domain')['Domain'].count())\n",
    "top_domains.rename(columns={'Domain':'Count'}, inplace=True)\n",
    "top_domains = (top_domains.reset_index()).sort_values('Count', ascending=False)\n",
    "top_domains.head(10)"
   ]
  },
  {
   "cell_type": "markdown",
   "metadata": {
    "collapsed": true
   },
   "source": [
    "# Preparing Dataset to Model"
   ]
  },
  {
   "cell_type": "code",
   "execution_count": 11,
   "metadata": {
    "collapsed": true
   },
   "outputs": [],
   "source": [
    "# Dropping off ID column, because it is meaningless to the model.\n",
    "task_features = task_features.drop('PageId',axis=1)"
   ]
  },
  {
   "cell_type": "code",
   "execution_count": 12,
   "metadata": {
    "collapsed": true
   },
   "outputs": [],
   "source": [
    "# Dealing with Timestamps, converting them into individual columns like week, hour, year...\n",
    "dates = task_features['Timestamp']\n",
    "task_features = task_features.drop('Timestamp',1)\n",
    "dates_2 = pd.DataFrame({\"year\": dates.dt.year,\n",
    "              \"month\": dates.dt.month,\n",
    "              \"day\": dates.dt.day,\n",
    "              \"hour\": dates.dt.hour,\n",
    "              \"dayofyear\": dates.dt.dayofyear,\n",
    "              \"week\": dates.dt.week,\n",
    "              \"weekofyear\": dates.dt.weekofyear,\n",
    "              \"dayofweek\": dates.dt.dayofweek,\n",
    "              \"weekday\": dates.dt.weekday,\n",
    "              \"quarter\": dates.dt.quarter,\n",
    "             })\n",
    "task_features = pd.concat([task_features,dates_2],1)"
   ]
  },
  {
   "cell_type": "code",
   "execution_count": 13,
   "metadata": {
    "collapsed": true
   },
   "outputs": [],
   "source": [
    "# Dummies for SearchTerm\n",
    "search_term_dummies = pd.get_dummies(task_features['SearchTerm'])\n",
    "task_features = pd.concat([task_features,search_term_dummies],axis=1)\n",
    "task_features = task_features.drop('SearchTerm',1)"
   ]
  },
  {
   "cell_type": "code",
   "execution_count": 14,
   "metadata": {
    "collapsed": true
   },
   "outputs": [],
   "source": [
    "# Dummies for Domain\n",
    "domain_dummies = pd.get_dummies(task_features['Domain'])\n",
    "task_features = pd.concat([task_features,domain_dummies],axis=1)\n",
    "task_features = task_features.drop('Domain',1)"
   ]
  },
  {
   "cell_type": "code",
   "execution_count": 15,
   "metadata": {
    "collapsed": true
   },
   "outputs": [],
   "source": [
    "# Dummies for Position\n",
    "position_dummies = pd.get_dummies(task_features['Position'])\n",
    "task_features = pd.concat([task_features,position_dummies],axis=1)\n",
    "task_features = task_features.drop('Position',1)"
   ]
  },
  {
   "cell_type": "code",
   "execution_count": 16,
   "metadata": {
    "collapsed": true
   },
   "outputs": [],
   "source": [
    "# Dummies for CountryId\n",
    "countryid_dummies = pd.get_dummies(task_features['CountryId'])\n",
    "task_features = pd.concat([task_features,countryid_dummies],axis=1)\n",
    "task_features = task_features.drop('CountryId',1)"
   ]
  },
  {
   "cell_type": "code",
   "execution_count": 17,
   "metadata": {},
   "outputs": [
    {
     "data": {
      "text/plain": [
       "(144652, 1752)"
      ]
     },
     "execution_count": 17,
     "metadata": {},
     "output_type": "execute_result"
    }
   ],
   "source": [
    "task_features.shape"
   ]
  },
  {
   "cell_type": "markdown",
   "metadata": {},
   "source": [
    "# Decision Tree Algorithm"
   ]
  },
  {
   "cell_type": "code",
   "execution_count": 18,
   "metadata": {
    "collapsed": true
   },
   "outputs": [],
   "source": [
    "y = task_features['ClickIndex']\n",
    "X = task_features.drop('ClickIndex',1)\n",
    "X_np = np.array(X)\n",
    "y_np = np.array(y)\n",
    "X_train, X_test, y_train, y_test = train_test_split(X_np, y_np, test_size=0.30, random_state=0)\n",
    "y_actual = y_test"
   ]
  },
  {
   "cell_type": "code",
   "execution_count": 19,
   "metadata": {},
   "outputs": [
    {
     "name": "stdout",
     "output_type": "stream",
     "text": [
      "Mean Squared Error :  0.0722457655101\n",
      "Root of MSE :  0.268785724156\n",
      "R2 Score :  0.707271958391\n"
     ]
    }
   ],
   "source": [
    "model = DecisionTreeRegressor(min_samples_split=10, min_samples_leaf=5)\n",
    "model.fit(X_train, y_train)\n",
    "y_pred = model.predict(X_test)\n",
    "print('Mean Squared Error : ', mean_squared_error(y_actual,y_pred))\n",
    "print('Root of MSE : ', mean_squared_error(y_actual,y_pred)**(1/2))\n",
    "print('R2 Score : ', r2_score(y_actual,y_pred))"
   ]
  },
  {
   "cell_type": "code",
   "execution_count": 20,
   "metadata": {},
   "outputs": [
    {
     "data": {
      "text/html": [
       "<div>\n",
       "<style>\n",
       "    .dataframe thead tr:only-child th {\n",
       "        text-align: right;\n",
       "    }\n",
       "\n",
       "    .dataframe thead th {\n",
       "        text-align: left;\n",
       "    }\n",
       "\n",
       "    .dataframe tbody tr th {\n",
       "        vertical-align: top;\n",
       "    }\n",
       "</style>\n",
       "<table border=\"1\" class=\"dataframe\">\n",
       "  <thead>\n",
       "    <tr style=\"text-align: right;\">\n",
       "      <th></th>\n",
       "      <th>0</th>\n",
       "      <th>1</th>\n",
       "    </tr>\n",
       "  </thead>\n",
       "  <tbody>\n",
       "    <tr>\n",
       "      <th>0</th>\n",
       "      <td>Rank</td>\n",
       "      <td>0.153868</td>\n",
       "    </tr>\n",
       "    <tr>\n",
       "      <th>1</th>\n",
       "      <td>year</td>\n",
       "      <td>0.142944</td>\n",
       "    </tr>\n",
       "    <tr>\n",
       "      <th>2</th>\n",
       "      <td>dayofyear</td>\n",
       "      <td>0.063298</td>\n",
       "    </tr>\n",
       "    <tr>\n",
       "      <th>3</th>\n",
       "      <td>apple.com</td>\n",
       "      <td>0.060599</td>\n",
       "    </tr>\n",
       "    <tr>\n",
       "      <th>4</th>\n",
       "      <td>gsmarena.com</td>\n",
       "      <td>0.047676</td>\n",
       "    </tr>\n",
       "  </tbody>\n",
       "</table>\n",
       "</div>"
      ],
      "text/plain": [
       "              0         1\n",
       "0          Rank  0.153868\n",
       "1          year  0.142944\n",
       "2     dayofyear  0.063298\n",
       "3     apple.com  0.060599\n",
       "4  gsmarena.com  0.047676"
      ]
     },
     "execution_count": 20,
     "metadata": {},
     "output_type": "execute_result"
    }
   ],
   "source": [
    "features = sorted(list(zip(X.columns, model.feature_importances_)), key=lambda x:x[1], reverse=True)\n",
    "df_features = pd.DataFrame(features)\n",
    "df_features.head()"
   ]
  },
  {
   "cell_type": "code",
   "execution_count": 21,
   "metadata": {},
   "outputs": [
    {
     "data": {
      "image/png": "[encoded data removed]",
      "text/plain": [
       "<matplotlib.figure.Figure at 0x10f666320>"
      ]
     },
     "metadata": {},
     "output_type": "display_data"
    }
   ],
   "source": [
    "plt.scatter(y_test, y_pred,marker='.')\n",
    "plt.show()"
   ]
  },
  {
   "cell_type": "code",
   "execution_count": null,
   "metadata": {
    "collapsed": true
   },
   "outputs": [],
   "source": []
  }
 ],
 "metadata": {
  "kernelspec": {
   "display_name": "Python 3",
   "language": "python",
   "name": "python3"
  },
  "language_info": {
   "codemirror_mode": {
    "name": "ipython",
    "version": 3
   },
   "file_extension": ".py",
   "mimetype": "text/x-python",
   "name": "python",
   "nbconvert_exporter": "python",
   "pygments_lexer": "ipython3",
   "version": "3.6.2"
  }
 },
 "nbformat": 4,
 "nbformat_minor": 2
}
